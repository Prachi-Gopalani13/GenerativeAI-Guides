{
 "cells": [
  {
   "cell_type": "markdown",
   "metadata": {},
   "source": [
    "# 🌍 LLM Translation Agent (Advanced)\n",
    "\n",
    "This notebook demonstrates an **LLM-powered multilingual translation agent** with advanced features:  \n",
    "- Multiple translation modes: literal, natural, creative  \n",
    "- Tone control: neutral, formal, casual, professional, poetic  \n",
    "- Translate **text, URLs, and PDFs**  \n",
    "- Optional **explanation of translation choices**  \n",
    "- Translate into **multiple languages at once**  \n",
    "- Interactive interface with dropdowns and buttons  \n",
    "\n",
    "This project showcases how LLMs can be used as **intelligent translation agents** rather than just direct machine translators."
   ]
  },
  {
   "cell_type": "markdown",
   "metadata": {},
   "source": [
    "## ⚙️ Setup\n",
    "\n",
    "We will install the required Python libraries for translation, text extraction, and interactive widgets."
   ]
  },
  {
   "cell_type": "code",
   "execution_count": null,
   "metadata": {},
   "outputs": [],
   "source": [
    "!pip install openai requests PyPDF2 beautifulsoup4 ipywidgets"
   ]
  },
  {
   "cell_type": "markdown",
   "metadata": {},
   "source": [
    "## 🧠 Translation Agent Class\n",
    "\n",
    "The `LLMTranslationAgent` wraps the OpenAI LLM into a convenient interface.  \n",
    "\n",
    "It provides methods for:  \n",
    "- `translate()` → basic translation with tone & mode  \n",
    "- `translate_url()` → fetch webpage text and translate  \n",
    "- `translate_pdf()` → read a PDF and translate  \n",
    "- `multi_translate()` → produce translations in multiple languages  "
   ]
  },
  {
   "cell_type": "code",
   "execution_count": null,
   "metadata": {},
   "outputs": [],
   "source": [
    "import requests\n",
    "from bs4 import BeautifulSoup\n",
    "import PyPDF2\n",
    "from openai import OpenAI\n",
    "\n",
    "class LLMTranslationAgent:\n",
    "    def __init__(self, model=\"gpt-4o-mini\"):\n",
    "        self.model = model\n",
    "        self.client = OpenAI()\n",
    "\n",
    "    def translate(self, text: str, target_lang: str = \"French\", mode: str = \"natural\", tone: str = \"neutral\", explain: bool = False) -> str:\n",
    "        \"\"\"\n",
    "        Translate text using LLM with tone, style, and explanation options.\n",
    "\n",
    "        :param text: Input text to translate.\n",
    "        :param target_lang: Target language (e.g., \"French\", \"Spanish\").\n",
    "        :param mode: \"literal\", \"natural\", or \"creative\".\n",
    "        :param tone: \"neutral\", \"formal\", \"casual\", \"professional\", \"poetic\".\n",
    "        :param explain: If True, provide translation notes.\n",
    "        \"\"\"\n",
    "        instructions = {\n",
    "            \"literal\": \"Translate word-for-word as closely as possible.\",\n",
    "            \"natural\": \"Translate naturally, as a fluent speaker would write.\",\n",
    "            \"creative\": \"Translate with adaptation, localization, and stylistic creativity.\"\n",
    "        }\n",
    "        prompt = f\"\"\"\n",
    "        Translate the following text into {target_lang}.\n",
    "        Mode: {mode} — {instructions.get(mode, 'natural translation')}.\n",
    "        Tone: {tone}.\n",
    "        { 'Also explain translation choices, idioms, or cultural details.' if explain else '' }\n",
    "\n",
    "        Text:\n",
    "        {text}\n",
    "        \"\"\"\n",
    "\n",
    "        resp = self.client.chat.completions.create(\n",
    "            model=self.model,\n",
    "            messages=[{\"role\": \"user\", \"content\": prompt}],\n",
    "            temperature=0.5\n",
    "        )\n",
    "        return resp.choices[0].message.content.strip()\n",
    "\n",
    "    def translate_url(self, url: str, **kwargs) -> str:\n",
    "        \"\"\"Fetch webpage text and translate.\"\"\"\n",
    "        html = requests.get(url).text\n",
    "        soup = BeautifulSoup(html, \"html.parser\")\n",
    "        text = \" \".join(p.get_text() for p in soup.find_all(\"p\"))\n",
    "        return self.translate(text, **kwargs)\n",
    "\n",
    "    def translate_pdf(self, file_path: str, **kwargs) -> str:\n",
    "        \"\"\"Extract text from PDF and translate.\"\"\"\n",
    "        with open(file_path, \"rb\") as f:\n",
    "            reader = PyPDF2.PdfReader(f)\n",
    "            text = \" \".join(page.extract_text() or \"\" for page in reader.pages)\n",
    "        return self.translate(text, **kwargs)\n",
    "\n",
    "    def multi_translate(self, text: str, target_langs: list, **kwargs) -> dict:\n",
    "        \"\"\"Translate into multiple languages at once.\"\"\"\n",
    "        results = {}\n",
    "        for lang in target_langs:\n",
    "            results[lang] = self.translate(text, target_lang=lang, **kwargs)\n",
    "        return results"
   ]
  },
  {
   "cell_type": "markdown",
   "metadata": {},
   "source": [
    "## 📝 Translation Prompt (used internally)\n",
    "\n",
    "We guide the LLM with a clear instruction for consistent, context-aware translation:\n",
    "\n",
    "```\n",
    "You are an advanced multilingual translation assistant.  \n",
    "Your goals:  \n",
    "1. Translate text fluently and accurately into the requested target language.  \n",
    "2. Respect the chosen mode:  \n",
    "   - Literal → word-for-word accuracy.  \n",
    "   - Natural → fluent, context-aware translation.  \n",
    "   - Creative → localized, adapted, stylistically rich translation.  \n",
    "3. Apply the requested tone (neutral, formal, casual, professional, poetic).  \n",
    "4. If asked to explain, highlight tricky phrases, idioms, or cultural differences.  \n",
    "5. Preserve key meaning while adapting to the requested style.  \n",
    "```"
   ]
  },
  {
   "cell_type": "markdown",
   "metadata": {},
   "source": [
    "## 🎛️ Interactive Translation Demo\n",
    "\n",
    "Use the widgets below to test translations.  \n",
    "- Enter some text  \n",
    "- Select the target language  \n",
    "- Choose a tone and mode  \n",
    "- Optionally ask for explanations  \n",
    "- Click **Translate**  "
   ]
  },
  {
   "cell_type": "code",
   "execution_count": null,
   "metadata": {},
   "outputs": [],
   "source": [
    "import ipywidgets as widgets\n",
    "from IPython.display import display\n",
    "\n",
    "agent = LLMTranslationAgent()\n",
    "\n",
    "text_input = widgets.Textarea(value=\"Hello, how are you?\", placeholder=\"Enter text to translate...\", description=\"Text:\", layout=widgets.Layout(width=\"100%\", height=\"100px\"))\n",
    "target_lang = widgets.Dropdown(options=[\"French\", \"Spanish\", \"German\", \"Chinese\", \"Arabic\"], value=\"French\", description=\"Target:\")\n",
    "tone = widgets.Dropdown(options=[\"neutral\", \"formal\", \"casual\", \"professional\", \"poetic\"], value=\"neutral\", description=\"Tone:\")\n",
    "mode = widgets.Dropdown(options=[\"literal\", \"natural\", \"creative\"], value=\"natural\", description=\"Mode:\")\n",
    "explain = widgets.Checkbox(value=False, description=\"Explain translation\")\n",
    "\n",
    "button = widgets.Button(description=\"Translate\", button_style=\"success\")\n",
    "output = widgets.Output()\n",
    "\n",
    "def on_translate_clicked(b):\n",
    "    output.clear_output()\n",
    "    with output:\n",
    "        result = agent.translate(text_input.value, target_lang.value, mode.value, tone.value, explain.value)\n",
    "        print(\"🔤 Translation:\", result)\n",
    "\n",
    "button.on_click(on_translate_clicked)\n",
    "display(text_input, target_lang, tone, mode, explain, button, output)"
   ]
  },
  {
   "cell_type": "markdown",
   "metadata": {},
   "source": [
    "## 🌐 Multi-Language Example\n",
    "\n",
    "Here we translate the same phrase into **multiple languages at once**.  \n",
    "This is useful when working in global teams or producing multilingual reports."
   ]
  },
  {
   "cell_type": "code",
   "execution_count": null,
   "metadata": {},
   "outputs": [],
   "source": [
    "agent = LLMTranslationAgent()\n",
    "results = agent.multi_translate(\"The future of AI is promising.\", [\"French\", \"Spanish\", \"Chinese\"], mode=\"natural\")\n",
    "for lang, trans in results.items():\n",
    "    print(f\"{lang}: {trans}\")"
   ]
  },
  {
   "cell_type": "markdown",
   "metadata": {},
   "source": [
    "## 🚀 Next Steps\n",
    "\n",
    "You can extend this agent by:  \n",
    "- Adding **speech-to-text** → translate spoken audio  \n",
    "- Adding **text-to-speech** → listen to translations in native accents  \n",
    "- Using **translation memory** → remember past translations for consistency  \n",
    "- Deploying as a **web app** with Gradio/Streamlit  "
   ]
  }
 ],
 "metadata": {
  "kernelspec": {
   "display_name": "Python 3",
   "language": "python",
   "name": "python3"
  },
  "language_info": {
   "name": "python",
   "pygments_lexer": "ipython3"
  }
 },
 "nbformat": 4,
 "nbformat_minor": 5
}
