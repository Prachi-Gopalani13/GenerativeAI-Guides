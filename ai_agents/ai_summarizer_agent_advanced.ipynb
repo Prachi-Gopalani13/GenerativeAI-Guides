{
 "cells": [
  {
   "cell_type": "markdown",
   "metadata": {},
   "source": [
    "# 📝 Summarizer Agent \n",
    "\n",
    "This notebook demonstrates an **LLM-powered text summarizer agent** with advanced features:\n",
    "- Supports multiple summary modes: paragraph, bullet points, key insights, TL;DR, structured JSON\n",
    "- Adjustable length (short, medium, long)\n",
    "- Custom tone: neutral, formal, casual, professional, persuasive\n",
    "- Works with **raw text, URLs, and PDFs**\n",
    "- Option to keep short quotes from the text\n",
    "- Interactive demo with dropdowns and text input\n",
    "\n",
    "This project shows how to build **intelligent summarization agents** using LLMs."
   ]
  },
  {
   "cell_type": "markdown",
   "metadata": {},
   "source": [
    "## ⚙️ Setup\n",
    "\n",
    "We will install the required Python libraries for summarization, text extraction, and interactive widgets."
   ]
  },
  {
   "cell_type": "code",
   "execution_count": null,
   "metadata": {},
   "outputs": [],
   "source": [
    "!pip install openai requests PyPDF2 beautifulsoup4 ipywidgets"
   ]
  },
  {
   "cell_type": "markdown",
   "metadata": {},
   "source": [
    "## 🧠 Summarizer Agent Class\n",
    "\n",
    "The `LLMSummarizerAgent` wraps the OpenAI LLM into a convenient interface.\n",
    "\n",
    "It provides methods for:\n",
    "- `summarize()` → generate summaries with tone & style\n",
    "- `summarize_url()` → fetch webpage text and summarize\n",
    "- `summarize_pdf()` → read a PDF and summarize\n",
    "- `multi_summary()` → produce different summary formats at once"
   ]
  },
  {
   "cell_type": "code",
   "execution_count": null,
   "metadata": {},
   "outputs": [],
   "source": [
    "import requests\n",
    "from bs4 import BeautifulSoup\n",
    "import PyPDF2\n",
    "from openai import OpenAI\n",
    "\n",
    "class LLMSummarizerAgent:\n",
    "    def __init__(self, model=\"gpt-4o-mini\"):\n",
    "        self.model = model\n",
    "        self.client = OpenAI()\n",
    "\n",
    "    def summarize(self, text: str, length: str = \"short\", mode: str = \"paragraph\", tone: str = \"neutral\", keep_quotes: bool = False) -> str:\n",
    "        instructions = {\n",
    "            \"paragraph\": \"Summarize into a clear, single paragraph.\",\n",
    "            \"bullets\": \"Summarize into concise bullet points.\",\n",
    "            \"key-insights\": \"Summarize into 3-5 key insights.\",\n",
    "            \"tldr\": \"Summarize into a one-line TL;DR.\",\n",
    "            \"json\": \"Summarize into structured JSON with sections: main_points, conclusion.\"\n",
    "        }\n",
    "        prompt = f\"\"\"\n",
    "        Summarize the following text in a {length} form.\n",
    "        Style: {instructions.get(mode, 'paragraph')}.\n",
    "        Tone: {tone}.\n",
    "        { 'Preserve short important quotes where useful.' if keep_quotes else '' }\n",
    "\n",
    "        Text:\n",
    "        {text}\n",
    "        \"\"\"\n",
    "\n",
    "        resp = self.client.chat.completions.create(\n",
    "            model=self.model,\n",
    "            messages=[{\"role\": \"user\", \"content\": prompt}],\n",
    "            temperature=0.4\n",
    "        )\n",
    "        return resp.choices[0].message.content.strip()\n",
    "\n",
    "    def summarize_url(self, url: str, **kwargs) -> str:\n",
    "        html = requests.get(url).text\n",
    "        soup = BeautifulSoup(html, \"html.parser\")\n",
    "        text = \" \".join(p.get_text() for p in soup.find_all(\"p\"))\n",
    "        return self.summarize(text, **kwargs)\n",
    "\n",
    "    def summarize_pdf(self, file_path: str, **kwargs) -> str:\n",
    "        with open(file_path, \"rb\") as f:\n",
    "            reader = PyPDF2.PdfReader(f)\n",
    "            text = \" \".join(page.extract_text() or \"\" for page in reader.pages)\n",
    "        return self.summarize(text, **kwargs)\n",
    "\n",
    "    def multi_summary(self, text: str, modes: list, **kwargs) -> dict:\n",
    "        results = {}\n",
    "        for mode in modes:\n",
    "            results[mode] = self.summarize(text, mode=mode, **kwargs)\n",
    "        return results"
   ]
  },
  {
   "cell_type": "markdown",
   "metadata": {},
   "source": [
    "## 📝 Summarization Prompt (used internally)\n",
    "\n",
    "We guide the LLM with clear instructions for consistent, context-aware summarization:\n",
    "\n",
    "```\n",
    "You are an advanced summarization assistant.\n",
    "Your goals:\n",
    "1. Produce summaries that are clear, concise, and faithful to the original text.\n",
    "2. Respect the chosen length (short, medium, long).\n",
    "3. Adapt to the requested mode (paragraph, bullets, insights, TL;DR, JSON).\n",
    "4. Maintain the requested tone (neutral, formal, casual, professional, persuasive).\n",
    "5. Optionally preserve important short quotes.\n",
    "```"
   ]
  },
  {
   "cell_type": "markdown",
   "metadata": {},
   "source": [
    "## 🎛️ Interactive Summarization Demo\n",
    "\n",
    "Use the widgets below to test summarization:\n",
    "- Enter some text\n",
    "- Select summary length & mode\n",
    "- Choose a tone\n",
    "- Optionally keep quotes\n",
    "- Click **Summarize**"
   ]
  },
  {
   "cell_type": "code",
   "execution_count": null,
   "metadata": {},
   "outputs": [],
   "source": [
    "import ipywidgets as widgets\n",
    "from IPython.display import display\n",
    "\n",
    "agent = LLMSummarizerAgent()\n",
    "\n",
    "text_input = widgets.Textarea(value=\"Artificial Intelligence is transforming industries...\", placeholder=\"Enter text to summarize...\", description=\"Text:\", layout=widgets.Layout(width=\"100%\", height=\"150px\"))\n",
    "length = widgets.Dropdown(options=[\"short\", \"medium\", \"long\"], value=\"short\", description=\"Length:\")\n",
    "mode = widgets.Dropdown(options=[\"paragraph\", \"bullets\", \"key-insights\", \"tldr\", \"json\"], value=\"paragraph\", description=\"Mode:\")\n",
    "tone = widgets.Dropdown(options=[\"neutral\", \"formal\", \"casual\", \"professional\", \"persuasive\"], value=\"neutral\", description=\"Tone:\")\n",
    "keep_quotes = widgets.Checkbox(value=False, description=\"Keep quotes\")\n",
    "\n",
    "button = widgets.Button(description=\"Summarize\", button_style=\"success\")\n",
    "output = widgets.Output()\n",
    "\n",
    "def on_summarize_clicked(b):\n",
    "    output.clear_output()\n",
    "    with output:\n",
    "        result = agent.summarize(text_input.value, length.value, mode.value, tone.value, keep_quotes.value)\n",
    "        print(\"📝 Summary:\", result)\n",
    "\n",
    "button.on_click(on_summarize_clicked)\n",
    "display(text_input, length, mode, tone, keep_quotes, button, output)"
   ]
  },
  {
   "cell_type": "markdown",
   "metadata": {},
   "source": [
    "## 📊 Multi-Format Example\n",
    "\n",
    "Here we generate summaries in **multiple formats at once** (e.g., paragraph + bullets + TL;DR).\n",
    "This is useful for producing summaries for different audiences."
   ]
  },
  {
   "cell_type": "code",
   "execution_count": null,
   "metadata": {},
   "outputs": [],
   "source": [
    "agent = LLMSummarizerAgent()\n",
    "results = agent.multi_summary(\"AI is reshaping industries, from healthcare to finance, by improving efficiency and enabling new capabilities.\", [\"paragraph\", \"bullets\", \"tldr\"])\n",
    "for mode, summary in results.items():\n",
    "    print(f\"{mode.upper()}:\\n{summary}\\n\")"
   ]
  },
  {
   "cell_type": "markdown",
   "metadata": {},
   "source": [
    "## 🚀 Next Steps\n",
    "\n",
    "You can extend this agent by:\n",
    "- Adding **topic extraction** to identify main themes\n",
    "- Generating **executive summaries** for business reports\n",
    "- Adding **abstractive vs extractive** summarization options\n",
    "- Deploying as a **web app** with Gradio/Streamlit"
   ]
  }
 ],
 "metadata": {
  "kernelspec": {
   "display_name": "Python 3",
   "language": "python",
   "name": "python3"
  },
  "language_info": {
   "name": "python",
   "version": "3.9"
  }
 },
 "nbformat": 4,
 "nbformat_minor": 5
}
