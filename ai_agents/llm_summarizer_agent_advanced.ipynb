{
 "cells": [
  {
   "cell_type": "markdown",
   "metadata": {},
   "source": [
    "# LLM Search Agent Notebook\n",
    "This notebook demonstrates a simple LLM-powered search agent that fetches information from multiple websites and summarizes it."
   ]
  },
  {
   "cell_type": "markdown",
   "metadata": {},
   "source": [
    "## Install Required Packages\n",
    "Make sure you have the required libraries installed. Run this cell if needed."
   ]
  },
  {
   "cell_type": "code",
   "metadata": {},
   "source": [
    "!pip install openai beautifulsoup4 requests"
   ]
  },
  {
   "cell_type": "markdown",
   "metadata": {},
   "source": [
    "## Import Libraries"
   ]
  },
  {
   "cell_type": "code",
   "metadata": {},
   "source": [
    "import requests\n",
    "from bs4 import BeautifulSoup\n",
    "from openai import OpenAI"
   ]
  },
  {
   "cell_type": "markdown",
   "metadata": {},
   "source": [
    "## Define LLM Search Agent Class"
   ]
  },
  {
   "cell_type": "code",
   "metadata": {},
   "source": [
    "class LLMSearchAgent:\n",
    "    def __init__(self, model=\"gpt-4o-mini\"):\n",
    "        self.model = model\n",
    "        self.client = OpenAI()\n",
    "    \n",
    "    def fetch_web_text(self, url: str) -> str:\n",
    "        try:\n",
    "            html = requests.get(url, timeout=10).text\n",
    "            soup = BeautifulSoup(html, \"html.parser\")\n",
    "            paragraphs = [p.get_text() for p in soup.find_all(\"p\")]\n",
    "            return \" \".join(paragraphs)\n",
    "        except Exception as e:\n",
    "            return f\"Error fetching {url}: {e}\"\n",
    "\n",
    "    def search_and_summarize(self, query: str, urls: list, top_k: int = 3) -> str:\n",
    "        combined_text = \"\"\n",
    "        for url in urls[:top_k]:\n",
    "            text = self.fetch_web_text(url)\n",
    "            combined_text += f'\\n\\nSource: {url}\\n{text}'\n",
    "        prompt = f'''\n",
    "        You are an expert search assistant.\n",
    "        Summarize the most important information related to the query: \"{query}\"\n",
    "        from the following sources. Include main points, insights, and relevant details.\n",
    "        Sources:\n",
    "        {combined_text}\n",
    "        '''\n",
    "        response = self.client.chat.completions.create(\n",
    "            model=self.model,\n",
    "            messages=[{\"role\": \"user\", \"content\": prompt}],\n",
    "            temperature=0.4\n",
    "        )\n",
    "        return response.choices[0].message.content.strip()"
   ]
  },
  {
   "cell_type": "markdown",
   "metadata": {},
   "source": [
    "## Example Usage"
   ]
  },
  {
   "cell_type": "code",
   "metadata": {},
   "source": [
    "agent = LLMSearchAgent()\n",
    "urls_to_search = [\n",
    "    \"https://en.wikipedia.org/wiki/Artificial_intelligence\",\n",
    "    \"https://www.britannica.com/technology/artificial-intelligence\",\n",
    "    \"https://www.sciencedaily.com/news/computers_math/artificial_intelligence/\"\n",
    "]\n",
    "query = \"Applications of AI in healthcare\"\n",
    "summary = agent.search_and_summarize(query, urls_to_search)\n",
    "summary"
   ]
  }
 ],
 "metadata": {"kernelspec": {"name": "python3", "display_name": "Python 3"}, "language_info": {"name": "python", "version": "3.11"}},
 "nbformat": 4,
 "nbformat_minor": 5
}
